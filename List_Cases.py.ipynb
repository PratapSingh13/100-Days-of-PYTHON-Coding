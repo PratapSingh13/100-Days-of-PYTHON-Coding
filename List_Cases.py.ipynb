{
 "cells": [
  {
   "cell_type": "code",
   "execution_count": 7,
   "metadata": {},
   "outputs": [
    {
     "name": "stdout",
     "output_type": "stream",
     "text": [
      "Airline Found\n"
     ]
    },
    {
     "data": {
      "text/plain": [
       "3"
      ]
     },
     "execution_count": 7,
     "metadata": {},
     "output_type": "execute_result"
    }
   ],
   "source": [
    "#Creating a List\n",
    "list_of_airlines=[\"AirIndia\",\"Emirates\",\"British Airways\"]\n",
    "\n",
    "#Finding the Element in the List\n",
    "airline=\"Emirates\"\n",
    "if airline in list_of_airlines:\n",
    "    print(\"Airline Found\")\n",
    "else:\n",
    "    print(\"Airline NOT Found\")\n",
    "    \n",
    "#Getting the Length of the List\n",
    "len(list_of_airlines)\n",
    "\n"
   ]
  },
  {
   "cell_type": "code",
   "execution_count": 2,
   "metadata": {},
   "outputs": [
    {
     "name": "stdout",
     "output_type": "stream",
     "text": [
      "Iterating the list using range()\n",
      "AirIndia\n",
      "Emirates\n",
      "British Airways\n"
     ]
    }
   ],
   "source": [
    "#Iterating the List using range()\n",
    "print(\"Iterating the list using range()\")\n",
    "for index in range(0,len(list_of_airlines)):\n",
    "    print(list_of_airlines[index])\n"
   ]
  },
  {
   "cell_type": "code",
   "execution_count": 6,
   "metadata": {},
   "outputs": [
    {
     "name": "stdout",
     "output_type": "stream",
     "text": [
      "Iterating the List Using keyword IN\n",
      "AirIndia\n",
      "Emirates\n",
      "British Airways\n"
     ]
    }
   ],
   "source": [
    "#Iterating the List using IN keyword \n",
    "print(\"Iterating the List Using keyword IN\")\n",
    "for AIRLINE in list_of_airlines:\n",
    "    print(AIRLINE)"
   ]
  },
  {
   "cell_type": "code",
   "execution_count": 14,
   "metadata": {},
   "outputs": [
    {
     "name": "stdout",
     "output_type": "stream",
     "text": [
      "Desired AirLine Form the List: ['AirIndia']\n"
     ]
    }
   ],
   "source": [
    "#Slicing the List way-1\n",
    "list_of_airlines=[\"AirIndia\",\"Emirates\",\"British Airways\"]\n",
    "len(list_of_airlines)\n",
    "print(\"Desired AirLine Form the List:\",list_of_airlines[0:1]) \n",
    "#Here it Takes only oth position element from the list \n",
    "#It will not take the 1st position element from the List"
   ]
  },
  {
   "cell_type": "code",
   "execution_count": 16,
   "metadata": {},
   "outputs": [
    {
     "name": "stdout",
     "output_type": "stream",
     "text": [
      "Desired AirLine Form the List: ['AirIndia', 'Emirates']\n"
     ]
    }
   ],
   "source": [
    "#Slicing the List way-2\n",
    "list_of_airlines=[\"AirIndia\",\"Emirates\",\"British Airways\"]\n",
    "len(list_of_airlines)\n",
    "print(\"Desired AirLine Form the List:\",list_of_airlines[-3:-1]) "
   ]
  },
  {
   "cell_type": "code",
   "execution_count": 18,
   "metadata": {},
   "outputs": [
    {
     "name": "stdout",
     "output_type": "stream",
     "text": [
      "['AirIndia', 'Emirates', 'British Airways', 'US Airways', 'New Zeland Airlines']\n"
     ]
    }
   ],
   "source": [
    "list_of_airlines=[\"AirIndia\",\"Emirates\",\"British Airways\"]\n",
    "list_of_airlines=list_of_airlines+[\"US Airways\",\"New Zeland Airlines\"]\n",
    "print(list_of_airlines)"
   ]
  },
  {
   "cell_type": "code",
   "execution_count": 20,
   "metadata": {},
   "outputs": [
    {
     "name": "stdout",
     "output_type": "stream",
     "text": [
      "['AirIndia', 'Emirates', 12, 'US Airways', 'New Zeland Airlines']\n"
     ]
    }
   ],
   "source": [
    "list_of_airlines[2]=12\n",
    "print(list_of_airlines)"
   ]
  },
  {
   "cell_type": "code",
   "execution_count": 21,
   "metadata": {},
   "outputs": [
    {
     "name": "stdout",
     "output_type": "stream",
     "text": [
      "[0, 0, 0, 0, 0]\n"
     ]
    }
   ],
   "source": [
    "#Creating new List with values of 5 times 0\n",
    "my_list=[0]*5\n",
    "print(my_list)"
   ]
  },
  {
   "cell_type": "code",
   "execution_count": 22,
   "metadata": {},
   "outputs": [
    {
     "name": "stdout",
     "output_type": "stream",
     "text": [
      "[0, 0, 0, 0, 0]\n",
      "[0, 0, 10, 0, 0]\n",
      "[0, 0, 10, 20, 0]\n",
      "[0, 0, 10, 20, 30]\n"
     ]
    }
   ],
   "source": [
    "for index in range(1,5):\n",
    "    my_list[index]=(index-1)*10\n",
    "    print(my_list)"
   ]
  },
  {
   "cell_type": "code",
   "execution_count": null,
   "metadata": {},
   "outputs": [],
   "source": []
  }
 ],
 "metadata": {
  "kernelspec": {
   "display_name": "Python 3",
   "language": "python",
   "name": "python3"
  },
  "language_info": {
   "codemirror_mode": {
    "name": "ipython",
    "version": 3
   },
   "file_extension": ".py",
   "mimetype": "text/x-python",
   "name": "python",
   "nbconvert_exporter": "python",
   "pygments_lexer": "ipython3",
   "version": "3.6.5"
  }
 },
 "nbformat": 4,
 "nbformat_minor": 2
}
