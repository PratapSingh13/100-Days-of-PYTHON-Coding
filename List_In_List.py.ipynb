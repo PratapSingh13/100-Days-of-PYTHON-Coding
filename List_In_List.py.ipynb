{
 "cells": [
  {
   "cell_type": "code",
   "execution_count": 3,
   "metadata": {},
   "outputs": [
    {
     "name": "stdout",
     "output_type": "stream",
     "text": [
      "['EM', 10]\n"
     ]
    }
   ],
   "source": [
    "#This is the List of List\n",
    "airline_details=[[\"AI\",8],[\"EM\",10],[\"BA\",7]]\n",
    "#Let me get the details of Emirates (EM) airline\n",
    "#Print the List\n",
    "print(airline_details[1])"
   ]
  },
  {
   "cell_type": "code",
   "execution_count": 2,
   "metadata": {},
   "outputs": [
    {
     "name": "stdout",
     "output_type": "stream",
     "text": [
      "7\n"
     ]
    }
   ],
   "source": [
    "#To get the number of flights operated by British Airways(BA)\n",
    "#[2][1] refers to 2nd list and 1st value, inside airline airline_details\n",
    "#Counting in Python always starts from 0\n",
    "print(airline_details[2][1])"
   ]
  },
  {
   "cell_type": "code",
   "execution_count": 4,
   "metadata": {},
   "outputs": [
    {
     "name": "stdout",
     "output_type": "stream",
     "text": [
      "Airline details as a List:\n",
      "['AI', 8]\n",
      "['EM', 10]\n",
      "['BA', 7]\n"
     ]
    }
   ],
   "source": [
    "#To display the details of all the Airlines\n",
    "#Here I use IN keyword\n",
    "print(\"Airline details as a List:\")\n",
    "for airline in airline_details:\n",
    "    print(airline)"
   ]
  },
  {
   "cell_type": "code",
   "execution_count": 5,
   "metadata": {},
   "outputs": [
    {
     "name": "stdout",
     "output_type": "stream",
     "text": [
      "No. of flights operated by each airline:\n",
      "['AI', 8]\n",
      "['EM', 10]\n",
      "['BA', 7]\n"
     ]
    }
   ],
   "source": [
    "#To Display the Number of flights operated by each airline\n",
    "print(\"No. of flights operated by each airline:\")\n",
    "for airline in airline_details:\n",
    "    print(airline)"
   ]
  },
  {
   "cell_type": "code",
   "execution_count": null,
   "metadata": {},
   "outputs": [],
   "source": []
  }
 ],
 "metadata": {
  "kernelspec": {
   "display_name": "Python 3",
   "language": "python",
   "name": "python3"
  },
  "language_info": {
   "codemirror_mode": {
    "name": "ipython",
    "version": 3
   },
   "file_extension": ".py",
   "mimetype": "text/x-python",
   "name": "python",
   "nbconvert_exporter": "python",
   "pygments_lexer": "ipython3",
   "version": "3.6.5"
  }
 },
 "nbformat": 4,
 "nbformat_minor": 2
}
