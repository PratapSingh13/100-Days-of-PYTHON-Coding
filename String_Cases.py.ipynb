{
 "cells": [
  {
   "cell_type": "code",
   "execution_count": 1,
   "metadata": {},
   "outputs": [
    {
     "name": "stdout",
     "output_type": "stream",
     "text": [
      "Length of the PAN Card Number is: 10\n"
     ]
    }
   ],
   "source": [
    "#Creating a String\n",
    "pancard_number=\"AABGT6715H\"\n",
    "\n",
    "#Getting the Length of the String\n",
    "print(\"Length of the PAN Card Number is:\",len(pancard_number))"
   ]
  },
  {
   "cell_type": "code",
   "execution_count": 2,
   "metadata": {},
   "outputs": [
    {
     "name": "stdout",
     "output_type": "stream",
     "text": [
      "PANCARD\n"
     ]
    }
   ],
   "source": [
    "#Concatenating Two Strings \n",
    "name1=\"PAN\"\n",
    "name2=\"CARD\"\n",
    "name=name1+name2\n",
    "print(name)"
   ]
  },
  {
   "cell_type": "code",
   "execution_count": 3,
   "metadata": {},
   "outputs": [
    {
     "name": "stdout",
     "output_type": "stream",
     "text": [
      "Iterating the Strig using range()\n",
      "A\n",
      "A\n",
      "B\n",
      "G\n",
      "T\n",
      "6\n",
      "7\n",
      "1\n",
      "5\n",
      "H\n"
     ]
    }
   ],
   "source": [
    "#Iterating the Strig using range()\n",
    "print(\"Iterating the Strig using range()\")\n",
    "for index in range(0,len(pancard_number)):\n",
    "    print(pancard_number[index])"
   ]
  },
  {
   "cell_type": "code",
   "execution_count": 4,
   "metadata": {},
   "outputs": [
    {
     "name": "stdout",
     "output_type": "stream",
     "text": [
      "Iterating the Strig using keyword in\n",
      "A\n",
      "A\n",
      "B\n",
      "G\n",
      "T\n",
      "6\n",
      "7\n",
      "1\n",
      "5\n",
      "H\n"
     ]
    }
   ],
   "source": [
    "#Iterating the Strig using IN keyword\n",
    "print(\"Iterating the Strig using keyword in\")\n",
    "for value in pancard_number:\n",
    "    print(value)"
   ]
  },
  {
   "cell_type": "code",
   "execution_count": 6,
   "metadata": {},
   "outputs": [
    {
     "name": "stdout",
     "output_type": "stream",
     "text": [
      "Searching for Character in String\n",
      "Character is not present\n"
     ]
    }
   ],
   "source": [
    "#Searching for Character in String\n",
    "print(\"Searching for Character in String\")\n",
    "if \"Z\" in pancard_number:\n",
    "    print(\"Character Present\")\n",
    "else:\n",
    "        print(\"Character is not present\")"
   ]
  },
  {
   "cell_type": "code",
   "execution_count": 7,
   "metadata": {},
   "outputs": [
    {
     "name": "stdout",
     "output_type": "stream",
     "text": [
      "The Numbers in PAN Card is: 6715\n"
     ]
    }
   ],
   "source": [
    "#Slicing the String\n",
    "print(\"The Numbers in PAN Card is:\",pancard_number[5:9])"
   ]
  },
  {
   "cell_type": "code",
   "execution_count": 8,
   "metadata": {},
   "outputs": [
    {
     "name": "stdout",
     "output_type": "stream",
     "text": [
      "Last but one 3 characters in the PAN Card: 715\n"
     ]
    }
   ],
   "source": [
    "print(\"Last but one 3 characters in the PAN Card:\",pancard_number[-4:-1])"
   ]
  },
  {
   "cell_type": "code",
   "execution_count": 9,
   "metadata": {},
   "outputs": [
    {
     "name": "stdout",
     "output_type": "stream",
     "text": [
      "AABGT6715H\n"
     ]
    }
   ],
   "source": [
    "#String is Immutable\n",
    "print(pancard_number)"
   ]
  },
  {
   "cell_type": "code",
   "execution_count": null,
   "metadata": {},
   "outputs": [],
   "source": []
  }
 ],
 "metadata": {
  "kernelspec": {
   "display_name": "Python 3",
   "language": "python",
   "name": "python3"
  },
  "language_info": {
   "codemirror_mode": {
    "name": "ipython",
    "version": 3
   },
   "file_extension": ".py",
   "mimetype": "text/x-python",
   "name": "python",
   "nbconvert_exporter": "python",
   "pygments_lexer": "ipython3",
   "version": "3.6.5"
  }
 },
 "nbformat": 4,
 "nbformat_minor": 2
}
